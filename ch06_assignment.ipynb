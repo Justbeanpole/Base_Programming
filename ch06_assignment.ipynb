{
 "cells": [
  {
   "cell_type": "code",
   "id": "initial_id",
   "metadata": {
    "collapsed": true,
    "ExecuteTime": {
     "end_time": "2024-05-03T01:42:32.324984Z",
     "start_time": "2024-05-03T01:42:32.322166Z"
    }
   },
   "source": [
    "import numpy as np\n",
    "import usecsv as ucv"
   ],
   "outputs": [],
   "execution_count": 23
  },
  {
   "metadata": {
    "ExecuteTime": {
     "end_time": "2024-05-03T01:42:51.965088Z",
     "start_time": "2024-05-03T01:42:51.937146Z"
    }
   },
   "cell_type": "code",
   "source": [
    "result = ucv.opencsv('quest.csv')\n",
    "result"
   ],
   "id": "4bbfc8b287386380",
   "outputs": [
    {
     "data": {
      "text/plain": [
       "[['1', '2', '1', '2', '2'],\n",
       " ['1', '3', '2', '3', '2'],\n",
       " ['1', '4', '3', '3', '3'],\n",
       " ['2', '5', '4', '4', '4'],\n",
       " ['2', '5', '6', '2', '5'],\n",
       " ['3', '6', '4', '2', '5'],\n",
       " ['3', '5', '4', '1', '6'],\n",
       " ['3', '5', '5', '1', '3']]"
      ]
     },
     "execution_count": 24,
     "metadata": {},
     "output_type": "execute_result"
    }
   ],
   "execution_count": 24
  },
  {
   "metadata": {},
   "cell_type": "markdown",
   "source": "",
   "id": "388773d407ac106a"
  },
  {
   "metadata": {
    "ExecuteTime": {
     "end_time": "2024-05-03T01:43:14.612911Z",
     "start_time": "2024-05-03T01:43:14.607712Z"
    }
   },
   "cell_type": "code",
   "source": [
    "result = ucv.switch(result)\n",
    "result"
   ],
   "id": "384e15a31555e644",
   "outputs": [
    {
     "data": {
      "text/plain": [
       "[[1.0, 2.0, 1.0, 2.0, 2.0],\n",
       " [1.0, 3.0, 2.0, 3.0, 2.0],\n",
       " [1.0, 4.0, 3.0, 3.0, 3.0],\n",
       " [2.0, 5.0, 4.0, 4.0, 4.0],\n",
       " [2.0, 5.0, 6.0, 2.0, 5.0],\n",
       " [3.0, 6.0, 4.0, 2.0, 5.0],\n",
       " [3.0, 5.0, 4.0, 1.0, 6.0],\n",
       " [3.0, 5.0, 5.0, 1.0, 3.0]]"
      ]
     },
     "execution_count": 26,
     "metadata": {},
     "output_type": "execute_result"
    }
   ],
   "execution_count": 26
  },
  {
   "metadata": {
    "ExecuteTime": {
     "end_time": "2024-05-03T01:45:44.346971Z",
     "start_time": "2024-05-03T01:45:44.341853Z"
    }
   },
   "cell_type": "code",
   "source": [
    "quest = np.array(result)\n",
    "quest"
   ],
   "id": "ffb08195c9872e",
   "outputs": [
    {
     "data": {
      "text/plain": [
       "array([[1., 2., 1., 2., 2.],\n",
       "       [1., 3., 2., 3., 2.],\n",
       "       [1., 4., 3., 3., 3.],\n",
       "       [2., 5., 4., 4., 4.],\n",
       "       [2., 5., 6., 2., 5.],\n",
       "       [3., 6., 4., 2., 5.],\n",
       "       [3., 5., 4., 1., 6.],\n",
       "       [3., 5., 5., 1., 3.]])"
      ]
     },
     "execution_count": 27,
     "metadata": {},
     "output_type": "execute_result"
    }
   ],
   "execution_count": 27
  },
  {
   "metadata": {
    "ExecuteTime": {
     "end_time": "2024-05-03T01:46:51.488586Z",
     "start_time": "2024-05-03T01:46:51.482085Z"
    }
   },
   "cell_type": "code",
   "source": [
    "for i in range(quest.shape[0]):\n",
    "    for j in range(quest.shape[1]):\n",
    "        if quest[i,j] > 5:\n",
    "            quest[i,j] = 5\n",
    "quest"
   ],
   "id": "1e93515e17565178",
   "outputs": [
    {
     "data": {
      "text/plain": [
       "array([[1., 2., 1., 2., 2.],\n",
       "       [1., 3., 2., 3., 2.],\n",
       "       [1., 4., 3., 3., 3.],\n",
       "       [2., 5., 4., 4., 4.],\n",
       "       [2., 5., 5., 2., 5.],\n",
       "       [3., 5., 4., 2., 5.],\n",
       "       [3., 5., 4., 1., 5.],\n",
       "       [3., 5., 5., 1., 3.]])"
      ]
     },
     "execution_count": 28,
     "metadata": {},
     "output_type": "execute_result"
    }
   ],
   "execution_count": 28
  },
  {
   "metadata": {
    "ExecuteTime": {
     "end_time": "2024-05-03T01:47:32.208661Z",
     "start_time": "2024-05-03T01:47:32.203141Z"
    }
   },
   "cell_type": "code",
   "source": "ucv.writecsv('result.csv', quest)",
   "id": "bf2c9c4ff6c14739",
   "outputs": [],
   "execution_count": 29
  }
 ],
 "metadata": {
  "kernelspec": {
   "display_name": "Python 3",
   "language": "python",
   "name": "python3"
  },
  "language_info": {
   "codemirror_mode": {
    "name": "ipython",
    "version": 2
   },
   "file_extension": ".py",
   "mimetype": "text/x-python",
   "name": "python",
   "nbconvert_exporter": "python",
   "pygments_lexer": "ipython2",
   "version": "2.7.6"
  }
 },
 "nbformat": 4,
 "nbformat_minor": 5
}
