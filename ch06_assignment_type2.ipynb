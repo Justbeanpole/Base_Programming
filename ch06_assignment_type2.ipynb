{
 "cells": [
  {
   "metadata": {
    "ExecuteTime": {
     "end_time": "2024-06-13T03:16:18.069059Z",
     "start_time": "2024-06-13T03:16:17.893916Z"
    }
   },
   "cell_type": "code",
   "source": [
    "import numpy as np\n",
    "import usecsv as usv"
   ],
   "id": "62cd489518e8db02",
   "outputs": [],
   "execution_count": 1
  },
  {
   "metadata": {
    "ExecuteTime": {
     "end_time": "2024-05-03T01:32:24.174026Z",
     "start_time": "2024-05-03T01:32:24.167872Z"
    }
   },
   "cell_type": "code",
   "source": [
    "result = np.genfromtxt('quest.csv', dtype=float, delimiter=',')\n",
    "result"
   ],
   "id": "43a116aac11e436",
   "outputs": [
    {
     "data": {
      "text/plain": [
       "array([[1., 2., 1., 2., 2.],\n",
       "       [1., 3., 2., 3., 2.],\n",
       "       [1., 4., 3., 3., 3.],\n",
       "       [2., 5., 4., 4., 4.],\n",
       "       [2., 5., 6., 2., 5.],\n",
       "       [3., 6., 4., 2., 5.],\n",
       "       [3., 5., 4., 1., 6.],\n",
       "       [3., 5., 5., 1., 3.]])"
      ]
     },
     "execution_count": 20,
     "metadata": {},
     "output_type": "execute_result"
    }
   ],
   "execution_count": 20
  },
  {
   "metadata": {
    "ExecuteTime": {
     "end_time": "2024-05-03T01:33:10.433363Z",
     "start_time": "2024-05-03T01:33:10.428232Z"
    }
   },
   "cell_type": "code",
   "source": [
    "result[result > 5] = 5\n",
    "result"
   ],
   "id": "281ace52c27b43a1",
   "outputs": [
    {
     "data": {
      "text/plain": [
       "array([[1., 2., 1., 2., 2.],\n",
       "       [1., 3., 2., 3., 2.],\n",
       "       [1., 4., 3., 3., 3.],\n",
       "       [2., 5., 4., 4., 4.],\n",
       "       [2., 5., 5., 2., 5.],\n",
       "       [3., 5., 4., 2., 5.],\n",
       "       [3., 5., 4., 1., 5.],\n",
       "       [3., 5., 5., 1., 3.]])"
      ]
     },
     "execution_count": 22,
     "metadata": {},
     "output_type": "execute_result"
    }
   ],
   "execution_count": 22
  },
  {
   "metadata": {
    "ExecuteTime": {
     "end_time": "2024-06-13T03:24:18.058961Z",
     "start_time": "2024-06-13T03:24:18.040626Z"
    }
   },
   "cell_type": "code",
   "source": [
    "arr1 = np.array([[1,2],[4,5],[7,8],[10,11]])\n",
    "arr3 = np.array([[1,2,3,4],[4,5,6,7],[7,8,9,10],[10,11,12,13]])\n",
    "print(arr1.shape)\n",
    "print(arr3.shape)\n",
    "arr1+arr3"
   ],
   "id": "6b05d7e3605abcae",
   "outputs": [
    {
     "name": "stdout",
     "output_type": "stream",
     "text": [
      "(4, 2)\n",
      "(4, 4)\n"
     ]
    },
    {
     "ename": "ValueError",
     "evalue": "operands could not be broadcast together with shapes (4,2) (4,4) ",
     "output_type": "error",
     "traceback": [
      "\u001B[1;31m---------------------------------------------------------------------------\u001B[0m",
      "\u001B[1;31mValueError\u001B[0m                                Traceback (most recent call last)",
      "Cell \u001B[1;32mIn[11], line 5\u001B[0m\n\u001B[0;32m      3\u001B[0m \u001B[38;5;28mprint\u001B[39m(arr1\u001B[38;5;241m.\u001B[39mshape)\n\u001B[0;32m      4\u001B[0m \u001B[38;5;28mprint\u001B[39m(arr3\u001B[38;5;241m.\u001B[39mshape)\n\u001B[1;32m----> 5\u001B[0m \u001B[43marr1\u001B[49m\u001B[38;5;241;43m+\u001B[39;49m\u001B[43marr3\u001B[49m\n",
      "\u001B[1;31mValueError\u001B[0m: operands could not be broadcast together with shapes (4,2) (4,4) "
     ]
    }
   ],
   "execution_count": 11
  },
  {
   "metadata": {},
   "cell_type": "code",
   "outputs": [],
   "execution_count": null,
   "source": "",
   "id": "fc3c40ee6a7fdfdf"
  }
 ],
 "metadata": {
  "kernelspec": {
   "display_name": "Python 3",
   "language": "python",
   "name": "python3"
  },
  "language_info": {
   "codemirror_mode": {
    "name": "ipython",
    "version": 2
   },
   "file_extension": ".py",
   "mimetype": "text/x-python",
   "name": "python",
   "nbconvert_exporter": "python",
   "pygments_lexer": "ipython2",
   "version": "2.7.6"
  }
 },
 "nbformat": 4,
 "nbformat_minor": 5
}
