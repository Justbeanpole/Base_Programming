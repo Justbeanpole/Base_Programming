{
 "cells": [
  {
   "cell_type": "code",
   "id": "initial_id",
   "metadata": {
    "collapsed": true,
    "ExecuteTime": {
     "end_time": "2024-06-05T10:38:06.935420Z",
     "start_time": "2024-06-05T10:38:06.927447Z"
    }
   },
   "source": "import numpy as np",
   "outputs": [],
   "execution_count": 3
  },
  {
   "metadata": {
    "ExecuteTime": {
     "end_time": "2024-06-05T10:38:59.549834Z",
     "start_time": "2024-06-05T10:38:59.539039Z"
    }
   },
   "cell_type": "code",
   "source": [
    "arr = np.array([[1,2,3,4,5],[2,4,5,6,7],[5,7,8,9,9]])\n",
    "arr"
   ],
   "id": "d45ee2c9ee27ddd8",
   "outputs": [
    {
     "data": {
      "text/plain": [
       "array([[1, 2, 3, 4, 5],\n",
       "       [2, 4, 5, 6, 7],\n",
       "       [5, 7, 8, 9, 9]])"
      ]
     },
     "execution_count": 4,
     "metadata": {},
     "output_type": "execute_result"
    }
   ],
   "execution_count": 4
  },
  {
   "metadata": {
    "ExecuteTime": {
     "end_time": "2024-06-05T11:01:50.451340Z",
     "start_time": "2024-06-05T11:01:50.446042Z"
    }
   },
   "cell_type": "code",
   "source": [
    "lst = [[1,2,3,4,5],[2,4,5,6,7],[5,7,8,9,9]]\n",
    "r = [i[3:]for i in lst[1:]]\n",
    "r"
   ],
   "id": "b7b49995decc1a1b",
   "outputs": [
    {
     "data": {
      "text/plain": [
       "[[6, 7], [9, 9]]"
      ]
     },
     "execution_count": 39,
     "metadata": {},
     "output_type": "execute_result"
    }
   ],
   "execution_count": 39
  },
  {
   "metadata": {
    "ExecuteTime": {
     "end_time": "2024-06-05T10:45:56.288444Z",
     "start_time": "2024-06-05T10:45:56.283130Z"
    }
   },
   "cell_type": "code",
   "source": "arr[1:,3:]",
   "id": "f134868e8f3c204a",
   "outputs": [
    {
     "data": {
      "text/plain": [
       "array([[6, 7],\n",
       "       [9, 9]])"
      ]
     },
     "execution_count": 15,
     "metadata": {},
     "output_type": "execute_result"
    }
   ],
   "execution_count": 15
  },
  {
   "metadata": {
    "ExecuteTime": {
     "end_time": "2024-06-05T11:11:52.117084Z",
     "start_time": "2024-06-05T11:11:52.111912Z"
    }
   },
   "cell_type": "code",
   "source": "arr.astype('float64')",
   "id": "5a4dd555593e7e9",
   "outputs": [
    {
     "data": {
      "text/plain": [
       "array([[1., 2., 3., 4., 5.],\n",
       "       [2., 4., 5., 6., 7.],\n",
       "       [5., 7., 8., 9., 9.]])"
      ]
     },
     "execution_count": 50,
     "metadata": {},
     "output_type": "execute_result"
    }
   ],
   "execution_count": 50
  },
  {
   "metadata": {
    "ExecuteTime": {
     "end_time": "2024-06-05T11:41:39.287308Z",
     "start_time": "2024-06-05T11:41:39.280029Z"
    }
   },
   "cell_type": "code",
   "source": [
    "cf = np.array([-750,-250,100,100,100,100,100,100,100,100,100,100,100,100,100,100,100,100,100,100])\n",
    "def npvCal(year, discount):\n",
    "    npv = 0\n",
    "    for i in range(year):\n",
    "        npv += cf[i]/((discount+1)**(i+1))\n",
    "    return npv\n",
    "npv = npvCal(20,0.1)\n",
    "npv\n"
   ],
   "id": "a1b3f753328e1667",
   "outputs": [
    {
     "data": {
      "text/plain": [
       "-210.6270990985242"
      ]
     },
     "execution_count": 59,
     "metadata": {},
     "output_type": "execute_result"
    }
   ],
   "execution_count": 59
  },
  {
   "metadata": {
    "ExecuteTime": {
     "end_time": "2024-06-13T02:57:52.388785Z",
     "start_time": "2024-06-13T02:57:50.854862Z"
    }
   },
   "cell_type": "code",
   "source": "import pandas as pd",
   "id": "e3e2635ef976bb72",
   "outputs": [],
   "execution_count": 1
  },
  {
   "metadata": {
    "ExecuteTime": {
     "end_time": "2024-06-05T12:02:26.738211Z",
     "start_time": "2024-06-05T12:02:26.733355Z"
    }
   },
   "cell_type": "code",
   "source": [
    "data = {\n",
    "    'name' : ['John', 'Doe', 'Jane','Chris'],\n",
    "    'age' : [21,22,33,44],\n",
    "    'score' : [79,98,86,70]\n",
    "}"
   ],
   "id": "4049caafc240ccdb",
   "outputs": [],
   "execution_count": 75
  },
  {
   "metadata": {
    "ExecuteTime": {
     "end_time": "2024-06-05T12:03:14.705661Z",
     "start_time": "2024-06-05T12:03:14.545538Z"
    }
   },
   "cell_type": "code",
   "source": [
    "df = pd.read_csv('apt.csv', encoding='cp949');\n",
    "df.head(3)"
   ],
   "id": "534365c7d0817d92",
   "outputs": [
    {
     "data": {
      "text/plain": [
       "            지역   번지   본번  부번           아파트       면적    계약년월  계약일     가격   층  \\\n",
       "0  강원도 강릉시 견소동  202  202   0          송정한신   59.800  201910    4  10900   5   \n",
       "1  강원도 강릉시 견소동  202  202   0          송정한신  116.175  201910   31  18500  10   \n",
       "2  강원도 강릉시 견소동  289  289   0  송정해변신도브래뉴아파트   84.990  201910    5  25000   6   \n",
       "\n",
       "   건축년도           도로명  \n",
       "0  1997   경강로2539번길 8  \n",
       "1  1997   경강로2539번길 8  \n",
       "2  2005  경강로2539번길 22  "
      ],
      "text/html": [
       "<div>\n",
       "<style scoped>\n",
       "    .dataframe tbody tr th:only-of-type {\n",
       "        vertical-align: middle;\n",
       "    }\n",
       "\n",
       "    .dataframe tbody tr th {\n",
       "        vertical-align: top;\n",
       "    }\n",
       "\n",
       "    .dataframe thead th {\n",
       "        text-align: right;\n",
       "    }\n",
       "</style>\n",
       "<table border=\"1\" class=\"dataframe\">\n",
       "  <thead>\n",
       "    <tr style=\"text-align: right;\">\n",
       "      <th></th>\n",
       "      <th>지역</th>\n",
       "      <th>번지</th>\n",
       "      <th>본번</th>\n",
       "      <th>부번</th>\n",
       "      <th>아파트</th>\n",
       "      <th>면적</th>\n",
       "      <th>계약년월</th>\n",
       "      <th>계약일</th>\n",
       "      <th>가격</th>\n",
       "      <th>층</th>\n",
       "      <th>건축년도</th>\n",
       "      <th>도로명</th>\n",
       "    </tr>\n",
       "  </thead>\n",
       "  <tbody>\n",
       "    <tr>\n",
       "      <th>0</th>\n",
       "      <td>강원도 강릉시 견소동</td>\n",
       "      <td>202</td>\n",
       "      <td>202</td>\n",
       "      <td>0</td>\n",
       "      <td>송정한신</td>\n",
       "      <td>59.800</td>\n",
       "      <td>201910</td>\n",
       "      <td>4</td>\n",
       "      <td>10900</td>\n",
       "      <td>5</td>\n",
       "      <td>1997</td>\n",
       "      <td>경강로2539번길 8</td>\n",
       "    </tr>\n",
       "    <tr>\n",
       "      <th>1</th>\n",
       "      <td>강원도 강릉시 견소동</td>\n",
       "      <td>202</td>\n",
       "      <td>202</td>\n",
       "      <td>0</td>\n",
       "      <td>송정한신</td>\n",
       "      <td>116.175</td>\n",
       "      <td>201910</td>\n",
       "      <td>31</td>\n",
       "      <td>18500</td>\n",
       "      <td>10</td>\n",
       "      <td>1997</td>\n",
       "      <td>경강로2539번길 8</td>\n",
       "    </tr>\n",
       "    <tr>\n",
       "      <th>2</th>\n",
       "      <td>강원도 강릉시 견소동</td>\n",
       "      <td>289</td>\n",
       "      <td>289</td>\n",
       "      <td>0</td>\n",
       "      <td>송정해변신도브래뉴아파트</td>\n",
       "      <td>84.990</td>\n",
       "      <td>201910</td>\n",
       "      <td>5</td>\n",
       "      <td>25000</td>\n",
       "      <td>6</td>\n",
       "      <td>2005</td>\n",
       "      <td>경강로2539번길 22</td>\n",
       "    </tr>\n",
       "  </tbody>\n",
       "</table>\n",
       "</div>"
      ]
     },
     "execution_count": 78,
     "metadata": {},
     "output_type": "execute_result"
    }
   ],
   "execution_count": 78
  },
  {
   "metadata": {
    "ExecuteTime": {
     "end_time": "2024-06-05T12:03:38.169129Z",
     "start_time": "2024-06-05T12:03:38.164297Z"
    }
   },
   "cell_type": "code",
   "source": "df.shape",
   "id": "12ac4a680c778945",
   "outputs": [
    {
     "data": {
      "text/plain": [
       "(42758, 12)"
      ]
     },
     "execution_count": 80,
     "metadata": {},
     "output_type": "execute_result"
    }
   ],
   "execution_count": 80
  },
  {
   "metadata": {
    "ExecuteTime": {
     "end_time": "2024-06-05T12:08:22.596588Z",
     "start_time": "2024-06-05T12:08:22.580603Z"
    }
   },
   "cell_type": "code",
   "source": "df[df['가격']>40000][['가격','면적','지역']].sort_values(by = '면적', ascending=False)",
   "id": "4f0301d784482f84",
   "outputs": [
    {
     "data": {
      "text/plain": [
       "           가격        면적               지역\n",
       "35826  300000  291.3360    인천광역시 연수구 송도동\n",
       "31501  240000  273.8200     서울특별시 중구 신당동\n",
       "10106  100000  244.6630    경기도 용인수지구 성복동\n",
       "30002  206000  244.4200    서울특별시 서초구 서초동\n",
       "27118  245000  242.8200    서울특별시 강남구 역삼동\n",
       "...       ...       ...              ...\n",
       "29725   43500   30.0100    서울특별시 마포구 아현동\n",
       "27124   74000   28.2460    서울특별시 강남구 역삼동\n",
       "27123   76000   28.2460    서울특별시 강남구 역삼동\n",
       "27122   74500   28.2460    서울특별시 강남구 역삼동\n",
       "30111   90000   25.3284  서울특별시 성동구 성수동1가\n",
       "\n",
       "[10486 rows x 3 columns]"
      ],
      "text/html": [
       "<div>\n",
       "<style scoped>\n",
       "    .dataframe tbody tr th:only-of-type {\n",
       "        vertical-align: middle;\n",
       "    }\n",
       "\n",
       "    .dataframe tbody tr th {\n",
       "        vertical-align: top;\n",
       "    }\n",
       "\n",
       "    .dataframe thead th {\n",
       "        text-align: right;\n",
       "    }\n",
       "</style>\n",
       "<table border=\"1\" class=\"dataframe\">\n",
       "  <thead>\n",
       "    <tr style=\"text-align: right;\">\n",
       "      <th></th>\n",
       "      <th>가격</th>\n",
       "      <th>면적</th>\n",
       "      <th>지역</th>\n",
       "    </tr>\n",
       "  </thead>\n",
       "  <tbody>\n",
       "    <tr>\n",
       "      <th>35826</th>\n",
       "      <td>300000</td>\n",
       "      <td>291.3360</td>\n",
       "      <td>인천광역시 연수구 송도동</td>\n",
       "    </tr>\n",
       "    <tr>\n",
       "      <th>31501</th>\n",
       "      <td>240000</td>\n",
       "      <td>273.8200</td>\n",
       "      <td>서울특별시 중구 신당동</td>\n",
       "    </tr>\n",
       "    <tr>\n",
       "      <th>10106</th>\n",
       "      <td>100000</td>\n",
       "      <td>244.6630</td>\n",
       "      <td>경기도 용인수지구 성복동</td>\n",
       "    </tr>\n",
       "    <tr>\n",
       "      <th>30002</th>\n",
       "      <td>206000</td>\n",
       "      <td>244.4200</td>\n",
       "      <td>서울특별시 서초구 서초동</td>\n",
       "    </tr>\n",
       "    <tr>\n",
       "      <th>27118</th>\n",
       "      <td>245000</td>\n",
       "      <td>242.8200</td>\n",
       "      <td>서울특별시 강남구 역삼동</td>\n",
       "    </tr>\n",
       "    <tr>\n",
       "      <th>...</th>\n",
       "      <td>...</td>\n",
       "      <td>...</td>\n",
       "      <td>...</td>\n",
       "    </tr>\n",
       "    <tr>\n",
       "      <th>29725</th>\n",
       "      <td>43500</td>\n",
       "      <td>30.0100</td>\n",
       "      <td>서울특별시 마포구 아현동</td>\n",
       "    </tr>\n",
       "    <tr>\n",
       "      <th>27124</th>\n",
       "      <td>74000</td>\n",
       "      <td>28.2460</td>\n",
       "      <td>서울특별시 강남구 역삼동</td>\n",
       "    </tr>\n",
       "    <tr>\n",
       "      <th>27123</th>\n",
       "      <td>76000</td>\n",
       "      <td>28.2460</td>\n",
       "      <td>서울특별시 강남구 역삼동</td>\n",
       "    </tr>\n",
       "    <tr>\n",
       "      <th>27122</th>\n",
       "      <td>74500</td>\n",
       "      <td>28.2460</td>\n",
       "      <td>서울특별시 강남구 역삼동</td>\n",
       "    </tr>\n",
       "    <tr>\n",
       "      <th>30111</th>\n",
       "      <td>90000</td>\n",
       "      <td>25.3284</td>\n",
       "      <td>서울특별시 성동구 성수동1가</td>\n",
       "    </tr>\n",
       "  </tbody>\n",
       "</table>\n",
       "<p>10486 rows × 3 columns</p>\n",
       "</div>"
      ]
     },
     "execution_count": 87,
     "metadata": {},
     "output_type": "execute_result"
    }
   ],
   "execution_count": 87
  },
  {
   "metadata": {
    "ExecuteTime": {
     "end_time": "2024-06-13T03:01:54.352297Z",
     "start_time": "2024-06-13T03:01:54.341132Z"
    }
   },
   "cell_type": "code",
   "source": [
    "df = pd.read_csv('survey.csv', encoding='cp949');\n",
    "df.head(5)"
   ],
   "id": "6e7bb434bc807327",
   "outputs": [
    {
     "data": {
      "text/plain": [
       "  sex  income  English  jobSatisfaction  stress\n",
       "0   m    3000      500                5       5\n",
       "1   f    4000      600                4       4\n",
       "2   f    5000      700                3       2\n",
       "3   m    6000      800                2       2\n",
       "4   m    4000      700                2       5"
      ],
      "text/html": [
       "<div>\n",
       "<style scoped>\n",
       "    .dataframe tbody tr th:only-of-type {\n",
       "        vertical-align: middle;\n",
       "    }\n",
       "\n",
       "    .dataframe tbody tr th {\n",
       "        vertical-align: top;\n",
       "    }\n",
       "\n",
       "    .dataframe thead th {\n",
       "        text-align: right;\n",
       "    }\n",
       "</style>\n",
       "<table border=\"1\" class=\"dataframe\">\n",
       "  <thead>\n",
       "    <tr style=\"text-align: right;\">\n",
       "      <th></th>\n",
       "      <th>sex</th>\n",
       "      <th>income</th>\n",
       "      <th>English</th>\n",
       "      <th>jobSatisfaction</th>\n",
       "      <th>stress</th>\n",
       "    </tr>\n",
       "  </thead>\n",
       "  <tbody>\n",
       "    <tr>\n",
       "      <th>0</th>\n",
       "      <td>m</td>\n",
       "      <td>3000</td>\n",
       "      <td>500</td>\n",
       "      <td>5</td>\n",
       "      <td>5</td>\n",
       "    </tr>\n",
       "    <tr>\n",
       "      <th>1</th>\n",
       "      <td>f</td>\n",
       "      <td>4000</td>\n",
       "      <td>600</td>\n",
       "      <td>4</td>\n",
       "      <td>4</td>\n",
       "    </tr>\n",
       "    <tr>\n",
       "      <th>2</th>\n",
       "      <td>f</td>\n",
       "      <td>5000</td>\n",
       "      <td>700</td>\n",
       "      <td>3</td>\n",
       "      <td>2</td>\n",
       "    </tr>\n",
       "    <tr>\n",
       "      <th>3</th>\n",
       "      <td>m</td>\n",
       "      <td>6000</td>\n",
       "      <td>800</td>\n",
       "      <td>2</td>\n",
       "      <td>2</td>\n",
       "    </tr>\n",
       "    <tr>\n",
       "      <th>4</th>\n",
       "      <td>m</td>\n",
       "      <td>4000</td>\n",
       "      <td>700</td>\n",
       "      <td>2</td>\n",
       "      <td>5</td>\n",
       "    </tr>\n",
       "  </tbody>\n",
       "</table>\n",
       "</div>"
      ]
     },
     "execution_count": 4,
     "metadata": {},
     "output_type": "execute_result"
    }
   ],
   "execution_count": 4
  },
  {
   "metadata": {
    "ExecuteTime": {
     "end_time": "2024-06-13T03:29:19.195528Z",
     "start_time": "2024-06-13T03:29:19.185465Z"
    }
   },
   "cell_type": "code",
   "source": "df.info()",
   "id": "4dfcf821009edd5a",
   "outputs": [
    {
     "name": "stdout",
     "output_type": "stream",
     "text": [
      "<class 'pandas.core.frame.DataFrame'>\n",
      "RangeIndex: 23 entries, 0 to 22\n",
      "Data columns (total 5 columns):\n",
      " #   Column           Non-Null Count  Dtype \n",
      "---  ------           --------------  ----- \n",
      " 0   sex              23 non-null     object\n",
      " 1   income           23 non-null     int64 \n",
      " 2   English          23 non-null     int64 \n",
      " 3   jobSatisfaction  23 non-null     int64 \n",
      " 4   stress           23 non-null     int64 \n",
      "dtypes: int64(4), object(1)\n",
      "memory usage: 1.0+ KB\n"
     ]
    }
   ],
   "execution_count": 14
  },
  {
   "metadata": {
    "ExecuteTime": {
     "end_time": "2024-06-13T03:30:36.117670Z",
     "start_time": "2024-06-13T03:30:35.905097Z"
    }
   },
   "cell_type": "code",
   "source": [
    "df = pd.read_csv('apt.csv', encoding='cp949');\n",
    "df.head(3)"
   ],
   "id": "3ca71775b969d8f6",
   "outputs": [
    {
     "data": {
      "text/plain": [
       "            지역   번지   본번  부번           아파트       면적    계약년월  계약일     가격   층  \\\n",
       "0  강원도 강릉시 견소동  202  202   0          송정한신   59.800  201910    4  10900   5   \n",
       "1  강원도 강릉시 견소동  202  202   0          송정한신  116.175  201910   31  18500  10   \n",
       "2  강원도 강릉시 견소동  289  289   0  송정해변신도브래뉴아파트   84.990  201910    5  25000   6   \n",
       "\n",
       "   건축년도           도로명  \n",
       "0  1997   경강로2539번길 8  \n",
       "1  1997   경강로2539번길 8  \n",
       "2  2005  경강로2539번길 22  "
      ],
      "text/html": [
       "<div>\n",
       "<style scoped>\n",
       "    .dataframe tbody tr th:only-of-type {\n",
       "        vertical-align: middle;\n",
       "    }\n",
       "\n",
       "    .dataframe tbody tr th {\n",
       "        vertical-align: top;\n",
       "    }\n",
       "\n",
       "    .dataframe thead th {\n",
       "        text-align: right;\n",
       "    }\n",
       "</style>\n",
       "<table border=\"1\" class=\"dataframe\">\n",
       "  <thead>\n",
       "    <tr style=\"text-align: right;\">\n",
       "      <th></th>\n",
       "      <th>지역</th>\n",
       "      <th>번지</th>\n",
       "      <th>본번</th>\n",
       "      <th>부번</th>\n",
       "      <th>아파트</th>\n",
       "      <th>면적</th>\n",
       "      <th>계약년월</th>\n",
       "      <th>계약일</th>\n",
       "      <th>가격</th>\n",
       "      <th>층</th>\n",
       "      <th>건축년도</th>\n",
       "      <th>도로명</th>\n",
       "    </tr>\n",
       "  </thead>\n",
       "  <tbody>\n",
       "    <tr>\n",
       "      <th>0</th>\n",
       "      <td>강원도 강릉시 견소동</td>\n",
       "      <td>202</td>\n",
       "      <td>202</td>\n",
       "      <td>0</td>\n",
       "      <td>송정한신</td>\n",
       "      <td>59.800</td>\n",
       "      <td>201910</td>\n",
       "      <td>4</td>\n",
       "      <td>10900</td>\n",
       "      <td>5</td>\n",
       "      <td>1997</td>\n",
       "      <td>경강로2539번길 8</td>\n",
       "    </tr>\n",
       "    <tr>\n",
       "      <th>1</th>\n",
       "      <td>강원도 강릉시 견소동</td>\n",
       "      <td>202</td>\n",
       "      <td>202</td>\n",
       "      <td>0</td>\n",
       "      <td>송정한신</td>\n",
       "      <td>116.175</td>\n",
       "      <td>201910</td>\n",
       "      <td>31</td>\n",
       "      <td>18500</td>\n",
       "      <td>10</td>\n",
       "      <td>1997</td>\n",
       "      <td>경강로2539번길 8</td>\n",
       "    </tr>\n",
       "    <tr>\n",
       "      <th>2</th>\n",
       "      <td>강원도 강릉시 견소동</td>\n",
       "      <td>289</td>\n",
       "      <td>289</td>\n",
       "      <td>0</td>\n",
       "      <td>송정해변신도브래뉴아파트</td>\n",
       "      <td>84.990</td>\n",
       "      <td>201910</td>\n",
       "      <td>5</td>\n",
       "      <td>25000</td>\n",
       "      <td>6</td>\n",
       "      <td>2005</td>\n",
       "      <td>경강로2539번길 22</td>\n",
       "    </tr>\n",
       "  </tbody>\n",
       "</table>\n",
       "</div>"
      ]
     },
     "execution_count": 16,
     "metadata": {},
     "output_type": "execute_result"
    }
   ],
   "execution_count": 16
  },
  {
   "metadata": {
    "ExecuteTime": {
     "end_time": "2024-06-13T03:31:04.273208Z",
     "start_time": "2024-06-13T03:31:04.258975Z"
    }
   },
   "cell_type": "code",
   "source": "df[df['가격'] >= 40000][['가격','면적','지역']].sort_values(by = '면적', ascending=True)",
   "id": "5bdf49e449697611",
   "outputs": [
    {
     "data": {
      "text/plain": [
       "           가격        면적               지역\n",
       "30111   90000   25.3284  서울특별시 성동구 성수동1가\n",
       "27124   74000   28.2460    서울특별시 강남구 역삼동\n",
       "27123   76000   28.2460    서울특별시 강남구 역삼동\n",
       "27122   74500   28.2460    서울특별시 강남구 역삼동\n",
       "29725   43500   30.0100    서울특별시 마포구 아현동\n",
       "...       ...       ...              ...\n",
       "27118  245000  242.8200    서울특별시 강남구 역삼동\n",
       "30002  206000  244.4200    서울특별시 서초구 서초동\n",
       "10106  100000  244.6630    경기도 용인수지구 성복동\n",
       "31501  240000  273.8200     서울특별시 중구 신당동\n",
       "35826  300000  291.3360    인천광역시 연수구 송도동\n",
       "\n",
       "[10691 rows x 3 columns]"
      ],
      "text/html": [
       "<div>\n",
       "<style scoped>\n",
       "    .dataframe tbody tr th:only-of-type {\n",
       "        vertical-align: middle;\n",
       "    }\n",
       "\n",
       "    .dataframe tbody tr th {\n",
       "        vertical-align: top;\n",
       "    }\n",
       "\n",
       "    .dataframe thead th {\n",
       "        text-align: right;\n",
       "    }\n",
       "</style>\n",
       "<table border=\"1\" class=\"dataframe\">\n",
       "  <thead>\n",
       "    <tr style=\"text-align: right;\">\n",
       "      <th></th>\n",
       "      <th>가격</th>\n",
       "      <th>면적</th>\n",
       "      <th>지역</th>\n",
       "    </tr>\n",
       "  </thead>\n",
       "  <tbody>\n",
       "    <tr>\n",
       "      <th>30111</th>\n",
       "      <td>90000</td>\n",
       "      <td>25.3284</td>\n",
       "      <td>서울특별시 성동구 성수동1가</td>\n",
       "    </tr>\n",
       "    <tr>\n",
       "      <th>27124</th>\n",
       "      <td>74000</td>\n",
       "      <td>28.2460</td>\n",
       "      <td>서울특별시 강남구 역삼동</td>\n",
       "    </tr>\n",
       "    <tr>\n",
       "      <th>27123</th>\n",
       "      <td>76000</td>\n",
       "      <td>28.2460</td>\n",
       "      <td>서울특별시 강남구 역삼동</td>\n",
       "    </tr>\n",
       "    <tr>\n",
       "      <th>27122</th>\n",
       "      <td>74500</td>\n",
       "      <td>28.2460</td>\n",
       "      <td>서울특별시 강남구 역삼동</td>\n",
       "    </tr>\n",
       "    <tr>\n",
       "      <th>29725</th>\n",
       "      <td>43500</td>\n",
       "      <td>30.0100</td>\n",
       "      <td>서울특별시 마포구 아현동</td>\n",
       "    </tr>\n",
       "    <tr>\n",
       "      <th>...</th>\n",
       "      <td>...</td>\n",
       "      <td>...</td>\n",
       "      <td>...</td>\n",
       "    </tr>\n",
       "    <tr>\n",
       "      <th>27118</th>\n",
       "      <td>245000</td>\n",
       "      <td>242.8200</td>\n",
       "      <td>서울특별시 강남구 역삼동</td>\n",
       "    </tr>\n",
       "    <tr>\n",
       "      <th>30002</th>\n",
       "      <td>206000</td>\n",
       "      <td>244.4200</td>\n",
       "      <td>서울특별시 서초구 서초동</td>\n",
       "    </tr>\n",
       "    <tr>\n",
       "      <th>10106</th>\n",
       "      <td>100000</td>\n",
       "      <td>244.6630</td>\n",
       "      <td>경기도 용인수지구 성복동</td>\n",
       "    </tr>\n",
       "    <tr>\n",
       "      <th>31501</th>\n",
       "      <td>240000</td>\n",
       "      <td>273.8200</td>\n",
       "      <td>서울특별시 중구 신당동</td>\n",
       "    </tr>\n",
       "    <tr>\n",
       "      <th>35826</th>\n",
       "      <td>300000</td>\n",
       "      <td>291.3360</td>\n",
       "      <td>인천광역시 연수구 송도동</td>\n",
       "    </tr>\n",
       "  </tbody>\n",
       "</table>\n",
       "<p>10691 rows × 3 columns</p>\n",
       "</div>"
      ]
     },
     "execution_count": 19,
     "metadata": {},
     "output_type": "execute_result"
    }
   ],
   "execution_count": 19
  },
  {
   "metadata": {
    "ExecuteTime": {
     "end_time": "2024-06-12T11:43:58.853503Z",
     "start_time": "2024-06-12T11:43:58.839284Z"
    }
   },
   "cell_type": "code",
   "source": "df.loc[df['가격'] >= 40000, ['가격', '면적','지역']].sort_values(by = '면적', ascending=False)",
   "id": "d8cde90946535f93",
   "outputs": [
    {
     "data": {
      "text/plain": [
       "           가격        면적               지역\n",
       "35826  300000  291.3360    인천광역시 연수구 송도동\n",
       "31501  240000  273.8200     서울특별시 중구 신당동\n",
       "10106  100000  244.6630    경기도 용인수지구 성복동\n",
       "30002  206000  244.4200    서울특별시 서초구 서초동\n",
       "27118  245000  242.8200    서울특별시 강남구 역삼동\n",
       "...       ...       ...              ...\n",
       "29725   43500   30.0100    서울특별시 마포구 아현동\n",
       "27122   74500   28.2460    서울특별시 강남구 역삼동\n",
       "27123   76000   28.2460    서울특별시 강남구 역삼동\n",
       "27124   74000   28.2460    서울특별시 강남구 역삼동\n",
       "30111   90000   25.3284  서울특별시 성동구 성수동1가\n",
       "\n",
       "[10691 rows x 3 columns]"
      ],
      "text/html": [
       "<div>\n",
       "<style scoped>\n",
       "    .dataframe tbody tr th:only-of-type {\n",
       "        vertical-align: middle;\n",
       "    }\n",
       "\n",
       "    .dataframe tbody tr th {\n",
       "        vertical-align: top;\n",
       "    }\n",
       "\n",
       "    .dataframe thead th {\n",
       "        text-align: right;\n",
       "    }\n",
       "</style>\n",
       "<table border=\"1\" class=\"dataframe\">\n",
       "  <thead>\n",
       "    <tr style=\"text-align: right;\">\n",
       "      <th></th>\n",
       "      <th>가격</th>\n",
       "      <th>면적</th>\n",
       "      <th>지역</th>\n",
       "    </tr>\n",
       "  </thead>\n",
       "  <tbody>\n",
       "    <tr>\n",
       "      <th>35826</th>\n",
       "      <td>300000</td>\n",
       "      <td>291.3360</td>\n",
       "      <td>인천광역시 연수구 송도동</td>\n",
       "    </tr>\n",
       "    <tr>\n",
       "      <th>31501</th>\n",
       "      <td>240000</td>\n",
       "      <td>273.8200</td>\n",
       "      <td>서울특별시 중구 신당동</td>\n",
       "    </tr>\n",
       "    <tr>\n",
       "      <th>10106</th>\n",
       "      <td>100000</td>\n",
       "      <td>244.6630</td>\n",
       "      <td>경기도 용인수지구 성복동</td>\n",
       "    </tr>\n",
       "    <tr>\n",
       "      <th>30002</th>\n",
       "      <td>206000</td>\n",
       "      <td>244.4200</td>\n",
       "      <td>서울특별시 서초구 서초동</td>\n",
       "    </tr>\n",
       "    <tr>\n",
       "      <th>27118</th>\n",
       "      <td>245000</td>\n",
       "      <td>242.8200</td>\n",
       "      <td>서울특별시 강남구 역삼동</td>\n",
       "    </tr>\n",
       "    <tr>\n",
       "      <th>...</th>\n",
       "      <td>...</td>\n",
       "      <td>...</td>\n",
       "      <td>...</td>\n",
       "    </tr>\n",
       "    <tr>\n",
       "      <th>29725</th>\n",
       "      <td>43500</td>\n",
       "      <td>30.0100</td>\n",
       "      <td>서울특별시 마포구 아현동</td>\n",
       "    </tr>\n",
       "    <tr>\n",
       "      <th>27122</th>\n",
       "      <td>74500</td>\n",
       "      <td>28.2460</td>\n",
       "      <td>서울특별시 강남구 역삼동</td>\n",
       "    </tr>\n",
       "    <tr>\n",
       "      <th>27123</th>\n",
       "      <td>76000</td>\n",
       "      <td>28.2460</td>\n",
       "      <td>서울특별시 강남구 역삼동</td>\n",
       "    </tr>\n",
       "    <tr>\n",
       "      <th>27124</th>\n",
       "      <td>74000</td>\n",
       "      <td>28.2460</td>\n",
       "      <td>서울특별시 강남구 역삼동</td>\n",
       "    </tr>\n",
       "    <tr>\n",
       "      <th>30111</th>\n",
       "      <td>90000</td>\n",
       "      <td>25.3284</td>\n",
       "      <td>서울특별시 성동구 성수동1가</td>\n",
       "    </tr>\n",
       "  </tbody>\n",
       "</table>\n",
       "<p>10691 rows × 3 columns</p>\n",
       "</div>"
      ]
     },
     "execution_count": 33,
     "metadata": {},
     "output_type": "execute_result"
    }
   ],
   "execution_count": 33
  },
  {
   "metadata": {
    "ExecuteTime": {
     "end_time": "2024-06-13T03:00:22.420185Z",
     "start_time": "2024-06-13T03:00:09.129042Z"
    }
   },
   "cell_type": "code",
   "source": "from scipy import stats",
   "id": "adb1cf8dcc19c14f",
   "outputs": [],
   "execution_count": 3
  },
  {
   "metadata": {
    "ExecuteTime": {
     "end_time": "2024-06-13T03:02:11.721446Z",
     "start_time": "2024-06-13T03:02:11.712247Z"
    }
   },
   "cell_type": "code",
   "source": "df.corr(numeric_only=True)",
   "id": "2653fc2177973434",
   "outputs": [
    {
     "data": {
      "text/plain": [
       "                   income   English  jobSatisfaction    stress\n",
       "income           1.000000  0.599452        -0.040108 -0.137920\n",
       "English          0.599452  1.000000        -0.312051  0.073351\n",
       "jobSatisfaction -0.040108 -0.312051         1.000000  0.165338\n",
       "stress          -0.137920  0.073351         0.165338  1.000000"
      ],
      "text/html": [
       "<div>\n",
       "<style scoped>\n",
       "    .dataframe tbody tr th:only-of-type {\n",
       "        vertical-align: middle;\n",
       "    }\n",
       "\n",
       "    .dataframe tbody tr th {\n",
       "        vertical-align: top;\n",
       "    }\n",
       "\n",
       "    .dataframe thead th {\n",
       "        text-align: right;\n",
       "    }\n",
       "</style>\n",
       "<table border=\"1\" class=\"dataframe\">\n",
       "  <thead>\n",
       "    <tr style=\"text-align: right;\">\n",
       "      <th></th>\n",
       "      <th>income</th>\n",
       "      <th>English</th>\n",
       "      <th>jobSatisfaction</th>\n",
       "      <th>stress</th>\n",
       "    </tr>\n",
       "  </thead>\n",
       "  <tbody>\n",
       "    <tr>\n",
       "      <th>income</th>\n",
       "      <td>1.000000</td>\n",
       "      <td>0.599452</td>\n",
       "      <td>-0.040108</td>\n",
       "      <td>-0.137920</td>\n",
       "    </tr>\n",
       "    <tr>\n",
       "      <th>English</th>\n",
       "      <td>0.599452</td>\n",
       "      <td>1.000000</td>\n",
       "      <td>-0.312051</td>\n",
       "      <td>0.073351</td>\n",
       "    </tr>\n",
       "    <tr>\n",
       "      <th>jobSatisfaction</th>\n",
       "      <td>-0.040108</td>\n",
       "      <td>-0.312051</td>\n",
       "      <td>1.000000</td>\n",
       "      <td>0.165338</td>\n",
       "    </tr>\n",
       "    <tr>\n",
       "      <th>stress</th>\n",
       "      <td>-0.137920</td>\n",
       "      <td>0.073351</td>\n",
       "      <td>0.165338</td>\n",
       "      <td>1.000000</td>\n",
       "    </tr>\n",
       "  </tbody>\n",
       "</table>\n",
       "</div>"
      ]
     },
     "execution_count": 5,
     "metadata": {},
     "output_type": "execute_result"
    }
   ],
   "execution_count": 5
  },
  {
   "metadata": {
    "ExecuteTime": {
     "end_time": "2024-06-13T03:03:00.143720Z",
     "start_time": "2024-06-13T03:02:59.085739Z"
    }
   },
   "cell_type": "code",
   "source": "import statsmodels.formula.api as smf",
   "id": "f375f4a901ded412",
   "outputs": [],
   "execution_count": 6
  },
  {
   "metadata": {
    "ExecuteTime": {
     "end_time": "2024-06-13T03:06:33.557931Z",
     "start_time": "2024-06-13T03:06:33.513086Z"
    }
   },
   "cell_type": "code",
   "source": [
    "model = smf.ols(formula='jobSatisfaction~English+stress+income', data = df)\n",
    "result = model.fit()\n",
    "result.summary()"
   ],
   "id": "b8ec608f94760501",
   "outputs": [
    {
     "data": {
      "text/plain": [
       "<class 'statsmodels.iolib.summary.Summary'>\n",
       "\"\"\"\n",
       "                            OLS Regression Results                            \n",
       "==============================================================================\n",
       "Dep. Variable:        jobSatisfaction   R-squared:                       0.187\n",
       "Model:                            OLS   Adj. R-squared:                  0.059\n",
       "Method:                 Least Squares   F-statistic:                     1.458\n",
       "Date:                Thu, 13 Jun 2024   Prob (F-statistic):              0.258\n",
       "Time:                        12:06:33   Log-Likelihood:                -35.038\n",
       "No. Observations:                  23   AIC:                             78.08\n",
       "Df Residuals:                      19   BIC:                             82.62\n",
       "Df Model:                           3                                         \n",
       "Covariance Type:            nonrobust                                         \n",
       "==============================================================================\n",
       "                 coef    std err          t      P>|t|      [0.025      0.975]\n",
       "------------------------------------------------------------------------------\n",
       "Intercept      4.9159      1.712      2.871      0.010       1.333       8.499\n",
       "English       -0.0064      0.003     -1.931      0.069      -0.013       0.001\n",
       "stress         0.2141      0.187      1.145      0.266      -0.177       0.606\n",
       "income         0.0004      0.000      1.125      0.275      -0.000       0.001\n",
       "==============================================================================\n",
       "Omnibus:                        0.278   Durbin-Watson:                   0.989\n",
       "Prob(Omnibus):                  0.870   Jarque-Bera (JB):                0.457\n",
       "Skew:                          -0.036   Prob(JB):                        0.796\n",
       "Kurtosis:                       2.313   Cond. No.                     3.00e+04\n",
       "==============================================================================\n",
       "\n",
       "Notes:\n",
       "[1] Standard Errors assume that the covariance matrix of the errors is correctly specified.\n",
       "[2] The condition number is large,  3e+04. This might indicate that there are\n",
       "strong multicollinearity or other numerical problems.\n",
       "\"\"\""
      ],
      "text/html": [
       "<table class=\"simpletable\">\n",
       "<caption>OLS Regression Results</caption>\n",
       "<tr>\n",
       "  <th>Dep. Variable:</th>     <td>jobSatisfaction</td> <th>  R-squared:         </th> <td>   0.187</td>\n",
       "</tr>\n",
       "<tr>\n",
       "  <th>Model:</th>                   <td>OLS</td>       <th>  Adj. R-squared:    </th> <td>   0.059</td>\n",
       "</tr>\n",
       "<tr>\n",
       "  <th>Method:</th>             <td>Least Squares</td>  <th>  F-statistic:       </th> <td>   1.458</td>\n",
       "</tr>\n",
       "<tr>\n",
       "  <th>Date:</th>             <td>Thu, 13 Jun 2024</td> <th>  Prob (F-statistic):</th>  <td> 0.258</td> \n",
       "</tr>\n",
       "<tr>\n",
       "  <th>Time:</th>                 <td>12:06:33</td>     <th>  Log-Likelihood:    </th> <td> -35.038</td>\n",
       "</tr>\n",
       "<tr>\n",
       "  <th>No. Observations:</th>      <td>    23</td>      <th>  AIC:               </th> <td>   78.08</td>\n",
       "</tr>\n",
       "<tr>\n",
       "  <th>Df Residuals:</th>          <td>    19</td>      <th>  BIC:               </th> <td>   82.62</td>\n",
       "</tr>\n",
       "<tr>\n",
       "  <th>Df Model:</th>              <td>     3</td>      <th>                     </th>     <td> </td>   \n",
       "</tr>\n",
       "<tr>\n",
       "  <th>Covariance Type:</th>      <td>nonrobust</td>    <th>                     </th>     <td> </td>   \n",
       "</tr>\n",
       "</table>\n",
       "<table class=\"simpletable\">\n",
       "<tr>\n",
       "      <td></td>         <th>coef</th>     <th>std err</th>      <th>t</th>      <th>P>|t|</th>  <th>[0.025</th>    <th>0.975]</th>  \n",
       "</tr>\n",
       "<tr>\n",
       "  <th>Intercept</th> <td>    4.9159</td> <td>    1.712</td> <td>    2.871</td> <td> 0.010</td> <td>    1.333</td> <td>    8.499</td>\n",
       "</tr>\n",
       "<tr>\n",
       "  <th>English</th>   <td>   -0.0064</td> <td>    0.003</td> <td>   -1.931</td> <td> 0.069</td> <td>   -0.013</td> <td>    0.001</td>\n",
       "</tr>\n",
       "<tr>\n",
       "  <th>stress</th>    <td>    0.2141</td> <td>    0.187</td> <td>    1.145</td> <td> 0.266</td> <td>   -0.177</td> <td>    0.606</td>\n",
       "</tr>\n",
       "<tr>\n",
       "  <th>income</th>    <td>    0.0004</td> <td>    0.000</td> <td>    1.125</td> <td> 0.275</td> <td>   -0.000</td> <td>    0.001</td>\n",
       "</tr>\n",
       "</table>\n",
       "<table class=\"simpletable\">\n",
       "<tr>\n",
       "  <th>Omnibus:</th>       <td> 0.278</td> <th>  Durbin-Watson:     </th> <td>   0.989</td>\n",
       "</tr>\n",
       "<tr>\n",
       "  <th>Prob(Omnibus):</th> <td> 0.870</td> <th>  Jarque-Bera (JB):  </th> <td>   0.457</td>\n",
       "</tr>\n",
       "<tr>\n",
       "  <th>Skew:</th>          <td>-0.036</td> <th>  Prob(JB):          </th> <td>   0.796</td>\n",
       "</tr>\n",
       "<tr>\n",
       "  <th>Kurtosis:</th>      <td> 2.313</td> <th>  Cond. No.          </th> <td>3.00e+04</td>\n",
       "</tr>\n",
       "</table><br/><br/>Notes:<br/>[1] Standard Errors assume that the covariance matrix of the errors is correctly specified.<br/>[2] The condition number is large,  3e+04. This might indicate that there are<br/>strong multicollinearity or other numerical problems."
      ],
      "text/latex": "\\begin{center}\n\\begin{tabular}{lclc}\n\\toprule\n\\textbf{Dep. Variable:}    & jobSatisfaction  & \\textbf{  R-squared:         } &     0.187   \\\\\n\\textbf{Model:}            &       OLS        & \\textbf{  Adj. R-squared:    } &     0.059   \\\\\n\\textbf{Method:}           &  Least Squares   & \\textbf{  F-statistic:       } &     1.458   \\\\\n\\textbf{Date:}             & Thu, 13 Jun 2024 & \\textbf{  Prob (F-statistic):} &    0.258    \\\\\n\\textbf{Time:}             &     12:06:33     & \\textbf{  Log-Likelihood:    } &   -35.038   \\\\\n\\textbf{No. Observations:} &          23      & \\textbf{  AIC:               } &     78.08   \\\\\n\\textbf{Df Residuals:}     &          19      & \\textbf{  BIC:               } &     82.62   \\\\\n\\textbf{Df Model:}         &           3      & \\textbf{                     } &             \\\\\n\\textbf{Covariance Type:}  &    nonrobust     & \\textbf{                     } &             \\\\\n\\bottomrule\n\\end{tabular}\n\\begin{tabular}{lcccccc}\n                   & \\textbf{coef} & \\textbf{std err} & \\textbf{t} & \\textbf{P$> |$t$|$} & \\textbf{[0.025} & \\textbf{0.975]}  \\\\\n\\midrule\n\\textbf{Intercept} &       4.9159  &        1.712     &     2.871  &         0.010        &        1.333    &        8.499     \\\\\n\\textbf{English}   &      -0.0064  &        0.003     &    -1.931  &         0.069        &       -0.013    &        0.001     \\\\\n\\textbf{stress}    &       0.2141  &        0.187     &     1.145  &         0.266        &       -0.177    &        0.606     \\\\\n\\textbf{income}    &       0.0004  &        0.000     &     1.125  &         0.275        &       -0.000    &        0.001     \\\\\n\\bottomrule\n\\end{tabular}\n\\begin{tabular}{lclc}\n\\textbf{Omnibus:}       &  0.278 & \\textbf{  Durbin-Watson:     } &    0.989  \\\\\n\\textbf{Prob(Omnibus):} &  0.870 & \\textbf{  Jarque-Bera (JB):  } &    0.457  \\\\\n\\textbf{Skew:}          & -0.036 & \\textbf{  Prob(JB):          } &    0.796  \\\\\n\\textbf{Kurtosis:}      &  2.313 & \\textbf{  Cond. No.          } & 3.00e+04  \\\\\n\\bottomrule\n\\end{tabular}\n%\\caption{OLS Regression Results}\n\\end{center}\n\nNotes: \\newline\n [1] Standard Errors assume that the covariance matrix of the errors is correctly specified. \\newline\n [2] The condition number is large,  3e+04. This might indicate that there are \\newline\n strong multicollinearity or other numerical problems."
     },
     "execution_count": 8,
     "metadata": {},
     "output_type": "execute_result"
    }
   ],
   "execution_count": 8
  },
  {
   "metadata": {},
   "cell_type": "code",
   "outputs": [],
   "execution_count": null,
   "source": " ",
   "id": "8fe49964b17d6eb6"
  }
 ],
 "metadata": {
  "kernelspec": {
   "display_name": "Python 3",
   "language": "python",
   "name": "python3"
  },
  "language_info": {
   "codemirror_mode": {
    "name": "ipython",
    "version": 2
   },
   "file_extension": ".py",
   "mimetype": "text/x-python",
   "name": "python",
   "nbconvert_exporter": "python",
   "pygments_lexer": "ipython2",
   "version": "2.7.6"
  }
 },
 "nbformat": 4,
 "nbformat_minor": 5
}
